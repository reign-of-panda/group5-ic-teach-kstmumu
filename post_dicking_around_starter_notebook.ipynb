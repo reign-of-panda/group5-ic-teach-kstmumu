{
 "cells": [
  {
   "cell_type": "markdown",
   "metadata": {},
   "source": [
    "\n",
    "# $K^* \\mu \\mu$ angular analysis - Getting started"
   ]
  },
  {
   "cell_type": "code",
   "execution_count": 1,
   "metadata": {
    "pycharm": {
     "name": "#%%\n"
    }
   },
   "outputs": [],
   "source": [
    "import numpy as np\n",
    "import pandas as pd\n",
    "import matplotlib.pyplot as plt\n",
    "from iminuit import Minuit"
   ]
  },
  {
   "cell_type": "markdown",
   "metadata": {},
   "source": [
    "## Loading the data\n",
    "Let us load the data from each bin in separate data frames, and put them in a list called `bins`.\n",
    "\n",
    "The following assumes that the pickle file for bin i is called `toy_data_bin_i.pkl` and is located in the folder `../kstarmumu_toy_data/`."
   ]
  },
  {
   "cell_type": "code",
   "execution_count": 2,
   "metadata": {
    "pycharm": {
     "name": "#%%\n"
    }
   },
   "outputs": [
    {
     "data": {
      "text/html": [
       "<div>\n",
       "<style scoped>\n",
       "    .dataframe tbody tr th:only-of-type {\n",
       "        vertical-align: middle;\n",
       "    }\n",
       "\n",
       "    .dataframe tbody tr th {\n",
       "        vertical-align: top;\n",
       "    }\n",
       "\n",
       "    .dataframe thead th {\n",
       "        text-align: right;\n",
       "    }\n",
       "</style>\n",
       "<table border=\"1\" class=\"dataframe\">\n",
       "  <thead>\n",
       "    <tr style=\"text-align: right;\">\n",
       "      <th></th>\n",
       "      <th>Unnamed: 0</th>\n",
       "      <th>mu_plus_MC15TuneV1_ProbNNk</th>\n",
       "      <th>mu_plus_MC15TuneV1_ProbNNpi</th>\n",
       "      <th>mu_plus_MC15TuneV1_ProbNNmu</th>\n",
       "      <th>mu_plus_MC15TuneV1_ProbNNe</th>\n",
       "      <th>mu_plus_MC15TuneV1_ProbNNp</th>\n",
       "      <th>mu_plus_P</th>\n",
       "      <th>mu_plus_PT</th>\n",
       "      <th>mu_plus_ETA</th>\n",
       "      <th>mu_plus_PHI</th>\n",
       "      <th>...</th>\n",
       "      <th>K_ProbNNk</th>\n",
       "      <th>K_ProbNNpi</th>\n",
       "      <th>K_ProbNNmu</th>\n",
       "      <th>K_ProbNNe</th>\n",
       "      <th>K_ProbNNp</th>\n",
       "      <th>Pi_ProbNNk</th>\n",
       "      <th>Pi_ProbNNpi</th>\n",
       "      <th>Pi_ProbNNmu</th>\n",
       "      <th>Pi_ProbNNe</th>\n",
       "      <th>Pi_ProbNNp</th>\n",
       "    </tr>\n",
       "  </thead>\n",
       "  <tbody>\n",
       "    <tr>\n",
       "      <th>45</th>\n",
       "      <td>45</td>\n",
       "      <td>NaN</td>\n",
       "      <td>NaN</td>\n",
       "      <td>NaN</td>\n",
       "      <td>NaN</td>\n",
       "      <td>NaN</td>\n",
       "      <td>15955.950614</td>\n",
       "      <td>641.744144</td>\n",
       "      <td>3.906140</td>\n",
       "      <td>-0.835156</td>\n",
       "      <td>...</td>\n",
       "      <td>0.061427</td>\n",
       "      <td>0.052140</td>\n",
       "      <td>0.200677</td>\n",
       "      <td>6.115117e-06</td>\n",
       "      <td>0.004793</td>\n",
       "      <td>0.304890</td>\n",
       "      <td>0.637411</td>\n",
       "      <td>-1000.000000</td>\n",
       "      <td>1.308459e-02</td>\n",
       "      <td>0.080456</td>\n",
       "    </tr>\n",
       "    <tr>\n",
       "      <th>55</th>\n",
       "      <td>55</td>\n",
       "      <td>NaN</td>\n",
       "      <td>NaN</td>\n",
       "      <td>NaN</td>\n",
       "      <td>NaN</td>\n",
       "      <td>NaN</td>\n",
       "      <td>63075.142871</td>\n",
       "      <td>2705.785734</td>\n",
       "      <td>3.841621</td>\n",
       "      <td>0.246343</td>\n",
       "      <td>...</td>\n",
       "      <td>0.016190</td>\n",
       "      <td>0.332755</td>\n",
       "      <td>-1000.000000</td>\n",
       "      <td>4.750063e-05</td>\n",
       "      <td>0.010916</td>\n",
       "      <td>0.152223</td>\n",
       "      <td>0.025331</td>\n",
       "      <td>0.998300</td>\n",
       "      <td>2.471284e-06</td>\n",
       "      <td>0.002347</td>\n",
       "    </tr>\n",
       "    <tr>\n",
       "      <th>63</th>\n",
       "      <td>63</td>\n",
       "      <td>NaN</td>\n",
       "      <td>NaN</td>\n",
       "      <td>NaN</td>\n",
       "      <td>NaN</td>\n",
       "      <td>NaN</td>\n",
       "      <td>52134.668694</td>\n",
       "      <td>1512.644714</td>\n",
       "      <td>4.232907</td>\n",
       "      <td>1.284302</td>\n",
       "      <td>...</td>\n",
       "      <td>0.195175</td>\n",
       "      <td>0.418089</td>\n",
       "      <td>-1000.000000</td>\n",
       "      <td>1.062657e-07</td>\n",
       "      <td>0.107342</td>\n",
       "      <td>0.000262</td>\n",
       "      <td>0.991871</td>\n",
       "      <td>-1000.000000</td>\n",
       "      <td>8.356627e-07</td>\n",
       "      <td>0.000302</td>\n",
       "    </tr>\n",
       "    <tr>\n",
       "      <th>66</th>\n",
       "      <td>66</td>\n",
       "      <td>NaN</td>\n",
       "      <td>NaN</td>\n",
       "      <td>NaN</td>\n",
       "      <td>NaN</td>\n",
       "      <td>NaN</td>\n",
       "      <td>11740.199236</td>\n",
       "      <td>414.493680</td>\n",
       "      <td>4.036552</td>\n",
       "      <td>0.527791</td>\n",
       "      <td>...</td>\n",
       "      <td>0.876636</td>\n",
       "      <td>0.068530</td>\n",
       "      <td>-1000.000000</td>\n",
       "      <td>1.173341e-05</td>\n",
       "      <td>0.661471</td>\n",
       "      <td>0.004774</td>\n",
       "      <td>0.083436</td>\n",
       "      <td>0.997146</td>\n",
       "      <td>1.595735e-06</td>\n",
       "      <td>0.000009</td>\n",
       "    </tr>\n",
       "    <tr>\n",
       "      <th>111</th>\n",
       "      <td>111</td>\n",
       "      <td>0.006116</td>\n",
       "      <td>0.066637</td>\n",
       "      <td>0.961084</td>\n",
       "      <td>3.678986e-07</td>\n",
       "      <td>0.000203</td>\n",
       "      <td>27209.080000</td>\n",
       "      <td>931.860895</td>\n",
       "      <td>4.066976</td>\n",
       "      <td>-0.400677</td>\n",
       "      <td>...</td>\n",
       "      <td>NaN</td>\n",
       "      <td>NaN</td>\n",
       "      <td>NaN</td>\n",
       "      <td>NaN</td>\n",
       "      <td>NaN</td>\n",
       "      <td>NaN</td>\n",
       "      <td>NaN</td>\n",
       "      <td>NaN</td>\n",
       "      <td>NaN</td>\n",
       "      <td>NaN</td>\n",
       "    </tr>\n",
       "  </tbody>\n",
       "</table>\n",
       "<p>5 rows × 95 columns</p>\n",
       "</div>"
      ],
      "text/plain": [
       "     Unnamed: 0  mu_plus_MC15TuneV1_ProbNNk  mu_plus_MC15TuneV1_ProbNNpi  \\\n",
       "45           45                         NaN                          NaN   \n",
       "55           55                         NaN                          NaN   \n",
       "63           63                         NaN                          NaN   \n",
       "66           66                         NaN                          NaN   \n",
       "111         111                    0.006116                     0.066637   \n",
       "\n",
       "     mu_plus_MC15TuneV1_ProbNNmu  mu_plus_MC15TuneV1_ProbNNe  \\\n",
       "45                           NaN                         NaN   \n",
       "55                           NaN                         NaN   \n",
       "63                           NaN                         NaN   \n",
       "66                           NaN                         NaN   \n",
       "111                     0.961084                3.678986e-07   \n",
       "\n",
       "     mu_plus_MC15TuneV1_ProbNNp     mu_plus_P   mu_plus_PT  mu_plus_ETA  \\\n",
       "45                          NaN  15955.950614   641.744144     3.906140   \n",
       "55                          NaN  63075.142871  2705.785734     3.841621   \n",
       "63                          NaN  52134.668694  1512.644714     4.232907   \n",
       "66                          NaN  11740.199236   414.493680     4.036552   \n",
       "111                    0.000203  27209.080000   931.860895     4.066976   \n",
       "\n",
       "     mu_plus_PHI  ...  K_ProbNNk  K_ProbNNpi   K_ProbNNmu     K_ProbNNe  \\\n",
       "45     -0.835156  ...   0.061427    0.052140     0.200677  6.115117e-06   \n",
       "55      0.246343  ...   0.016190    0.332755 -1000.000000  4.750063e-05   \n",
       "63      1.284302  ...   0.195175    0.418089 -1000.000000  1.062657e-07   \n",
       "66      0.527791  ...   0.876636    0.068530 -1000.000000  1.173341e-05   \n",
       "111    -0.400677  ...        NaN         NaN          NaN           NaN   \n",
       "\n",
       "     K_ProbNNp  Pi_ProbNNk  Pi_ProbNNpi  Pi_ProbNNmu    Pi_ProbNNe  Pi_ProbNNp  \n",
       "45    0.004793    0.304890     0.637411 -1000.000000  1.308459e-02    0.080456  \n",
       "55    0.010916    0.152223     0.025331     0.998300  2.471284e-06    0.002347  \n",
       "63    0.107342    0.000262     0.991871 -1000.000000  8.356627e-07    0.000302  \n",
       "66    0.661471    0.004774     0.083436     0.997146  1.595735e-06    0.000009  \n",
       "111        NaN         NaN          NaN          NaN           NaN         NaN  \n",
       "\n",
       "[5 rows x 95 columns]"
      ]
     },
     "execution_count": 2,
     "metadata": {},
     "output_type": "execute_result"
    }
   ],
   "source": [
    "folder_path = \"D:\\OneDrive - Imperial College London\\Imperial College London\\Module Content\\Year 3\\Problem Solving\\year3-problem-solving\\year3-problem-solving\\csv\"\n",
    "file_name = \"/total_dataset.csv\"\n",
    "file_path = folder_path + file_name\n",
    "\n",
    "dF = pd.read_csv(file_path)\n",
    "\n",
    "bins = []\n",
    "bins.append(dF[(dF[\"q2\"]>0.1) & (dF[\"q2\"]<=0.98)])\n",
    "bins.append(dF[(dF[\"q2\"]>=1.1) & (dF[\"q2\"]<=2.5)])\n",
    "bins.append(dF[(dF[\"q2\"]>2.5) & (dF[\"q2\"]<=4.0)])\n",
    "bins.append(dF[(dF[\"q2\"]>4.0) & (dF[\"q2\"]<=6.0)])\n",
    "bins.append(dF[(dF[\"q2\"]>6.0) & (dF[\"q2\"]<=8.0)])\n",
    "bins.append(dF[(dF[\"q2\"]>=15.0) & (dF[\"q2\"]<=17.0)])\n",
    "bins.append(dF[(dF[\"q2\"]>17.0) & (dF[\"q2\"]<=19.0)])\n",
    "bins.append(dF[(dF[\"q2\"]>11.0) & (dF[\"q2\"]<=12.5)])\n",
    "bins.append(dF[(dF[\"q2\"]>1.0) & (dF[\"q2\"]<=6.0)])\n",
    "bins.append(dF[(dF[\"q2\"]>15.0) & (dF[\"q2\"]<=17.9)])\n",
    "\n",
    "bins[0].head()"
   ]
  },
  {
   "cell_type": "markdown",
   "metadata": {},
   "source": [
    "Let us have a look at the distribution of the variable $cos(\\theta_l)$, which will be used below, in one of the bins."
   ]
  },
  {
   "cell_type": "code",
   "execution_count": 5,
   "metadata": {
    "pycharm": {
     "name": "#%%\n"
    }
   },
   "outputs": [
    {
     "data": {
      "image/png": "[encoded data removed]",
      "text/plain": [
       "<Figure size 432x288 with 1 Axes>"
      ]
     },
     "metadata": {
      "needs_background": "light"
     },
     "output_type": "display_data"
    }
   ],
   "source": [
    "plt.hist(bins[3]['costhetal'], bins=25, density=True)\n",
    "plt.xlabel(r'$cos(\\theta_l)$')\n",
    "plt.ylabel(r'Number of candidates')\n",
    "plt.grid()\n",
    "plt.show()"
   ]
  },
  {
   "cell_type": "markdown",
   "metadata": {},
   "source": [
    "## Fitting\n",
    "Let us assume a flat acceptance distribution for the following.\n",
    "We have\n",
    "$\\frac{d^2\\Gamma_P}{dq^2dcos\\theta_l} = \\frac{3}{8}[\\frac{3}{2} - \\frac{1}{2}F_L + \\frac{1}{2}cos2\\theta_l(1-3F_L) + \\frac{8}{3}A_{FB}cos\\theta_l]$"
   ]
  },
  {
   "cell_type": "code",
   "execution_count": 8,
   "metadata": {
    "pycharm": {
     "name": "#%%\n"
    }
   },
   "outputs": [],
   "source": [
    "def d2gamma_p_d2q2_dcostheta(fl, afb, cos_theta_l):\n",
    "    \"\"\"\n",
    "    Returns the pdf defined above\n",
    "    :param fl: f_l observable\n",
    "    :param afb: a_fb observable\n",
    "    :param cos_theta_l: cos(theta_l)\n",
    "    :return:\n",
    "    \"\"\"\n",
    "    ctl = cos_theta_l\n",
    "    c2tl = 2 * ctl ** 2 - 1\n",
    "    acceptance = 1  # acceptance \"function\"\n",
    "    scalar_array = 3/8 * (3/2 - 1/2 * fl + 1/2 * c2tl * (1 - 3 * fl) + 8/3 * afb * ctl) * acceptance\n",
    "    normalised_scalar_array = scalar_array * 2  # normalising scalar array to account for the non-unity acceptance function\n",
    "    return normalised_scalar_array\n",
    "\n",
    "def log_likelihood(fl, afb, _bin):\n",
    "    \"\"\"\n",
    "    Returns the negative log-likelihood of the pdf defined above\n",
    "    :param fl: f_l observable\n",
    "    :param afb: a_fb observable\n",
    "    :param _bin: number of the bin to fit\n",
    "    :return:\n",
    "    \"\"\"\n",
    "    _bin = bins[int(_bin)]\n",
    "    ctl = _bin['costhetal']\n",
    "    normalised_scalar_array = d2gamma_p_d2q2_dcostheta(fl=fl, afb=afb, cos_theta_l=ctl)\n",
    "    return - np.sum(np.log(normalised_scalar_array))"
   ]
  },
  {
   "cell_type": "markdown",
   "metadata": {},
   "source": [
    "Let us check how the negative log-likelihood function defined above looks like for a given bin and a fixed $A_{FB}$ or a fixed $F_L$."
   ]
  },
  {
   "cell_type": "code",
   "execution_count": 9,
   "metadata": {
    "pycharm": {
     "name": "#%%\n"
    }
   },
   "outputs": [
    {
     "name": "stderr",
     "output_type": "stream",
     "text": [
      "C:\\Users\\therm\\anaconda3\\lib\\site-packages\\pandas\\core\\series.py:726: RuntimeWarning: invalid value encountered in log\n",
      "  result = getattr(ufunc, method)(*inputs, **kwargs)\n",
      "C:\\Users\\therm\\anaconda3\\lib\\site-packages\\pandas\\core\\series.py:726: RuntimeWarning: invalid value encountered in log\n",
      "  result = getattr(ufunc, method)(*inputs, **kwargs)\n"
     ]
    },
    {
     "data": {
      "image/png": "[encoded data removed]",
      "text/plain": [
       "<Figure size 576x216 with 2 Axes>"
      ]
     },
     "metadata": {
      "needs_background": "light"
     },
     "output_type": "display_data"
    }
   ],
   "source": [
    "_test_bin = 1\n",
    "_test_afb = 0.7\n",
    "_test_fl = 0.0\n",
    "\n",
    "x = np.linspace(-1, 1, 500)\n",
    "fig, (ax1, ax2) = plt.subplots(1, 2, figsize=(8, 3))\n",
    "ax1.plot(x, [log_likelihood(fl=i, afb=_test_afb, _bin=_test_bin) for i in x])\n",
    "ax1.set_title(r'$A_{FB}$ = ' + str(_test_afb))\n",
    "ax1.set_xlabel(r'$F_L$')\n",
    "ax1.set_ylabel(r'$-\\mathcal{L}$')\n",
    "ax1.grid()\n",
    "ax2.plot(x, [log_likelihood(fl=_test_fl, afb=i, _bin=_test_bin) for i in x])\n",
    "ax2.set_title(r'$F_{L}$ = ' + str(_test_fl))\n",
    "ax2.set_xlabel(r'$A_{FB}$')\n",
    "ax2.set_ylabel(r'$-\\mathcal{L}$')\n",
    "ax2.grid()\n",
    "plt.tight_layout()\n",
    "plt.show()"
   ]
  },
  {
   "cell_type": "markdown",
   "metadata": {},
   "source": [
    "### Fitting\n",
    "We then use `iminuit` to optimize $A_{FB}$ and $F_L$."
   ]
  },
  {
   "cell_type": "code",
   "execution_count": 11,
   "metadata": {
    "pycharm": {
     "name": "#%%\n"
    }
   },
   "outputs": [
    {
     "name": "stdout",
     "output_type": "stream",
     "text": [
      "Bin 0: -0.213 pm 0.013, 0.039 pm 0.008. Function minimum considered valid: True\n",
      "Bin 1: -0.303 pm 0.01, 0.038 pm 0.007. Function minimum considered valid: True\n",
      "Bin 2: -0.204 pm 0.01, 0.084 pm 0.006. Function minimum considered valid: True\n",
      "Bin 3: -0.18 pm 0.01, 0.086 pm 0.006. Function minimum considered valid: True\n",
      "Bin 4: 0.076 pm 0.01, 0.108 pm 0.006. Function minimum considered valid: True\n",
      "Bin 5: 0.233 pm 0.022, 0.063 pm 0.013. Function minimum considered valid: True\n",
      "Bin 6: 0.263 pm 0.028, 0.079 pm 0.017. Function minimum considered valid: True\n",
      "Bin 7: 0.262 pm 0.017, 0.078 pm 0.01. Function minimum considered valid: True\n",
      "Bin 8: -0.227 pm 0.006, 0.069 pm 0.004. Function minimum considered valid: True\n",
      "Bin 9: 0.225 pm 0.019, 0.065 pm 0.011. Function minimum considered valid: True\n"
     ]
    }
   ],
   "source": [
    "bin_number_to_check = 0  # bin that we want to check in more details in the next cell\n",
    "bin_results_to_check = None\n",
    "\n",
    "log_likelihood.errordef = Minuit.LIKELIHOOD\n",
    "decimal_places = 3\n",
    "starting_point = [-0.1,0.0]\n",
    "fls, fl_errs = [], []\n",
    "afbs, afb_errs = [], []\n",
    "for i in range(len(bins)):\n",
    "    m = Minuit(log_likelihood, fl=starting_point[0], afb=starting_point[1], _bin=i)\n",
    "    m.fixed['_bin'] = True  # fixing the bin number as we don't want to optimize it\n",
    "    m.limits=((-1.0, 1.0), (-1.0, 1.0), None)\n",
    "    m.migrad()\n",
    "    m.hesse()\n",
    "    if i == bin_number_to_check:\n",
    "        bin_results_to_check = m\n",
    "    fls.append(m.values[0])\n",
    "    afbs.append(m.values[1])\n",
    "    fl_errs.append(m.errors[0])\n",
    "    afb_errs.append(m.errors[1])\n",
    "    print(f\"Bin {i}: {np.round(fls[i], decimal_places)} pm {np.round(fl_errs[i], decimal_places)},\", f\"{np.round(afbs[i], decimal_places)} pm {np.round(afb_errs[i], decimal_places)}. Function minimum considered valid: {m.fmin.is_valid}\")"
   ]
  },
  {
   "cell_type": "markdown",
   "metadata": {},
   "source": [
    "Let us also look at the profiles for $A_{FB}$ and $F_L$ for a bin (e.g. bin number 0)."
   ]
  },
  {
   "cell_type": "code",
   "execution_count": 12,
   "metadata": {
    "pycharm": {
     "name": "#%%\n"
    }
   },
   "outputs": [
    {
     "data": {
      "image/png": "[encoded data removed]",
      "text/plain": [
       "<Figure size 576x360 with 2 Axes>"
      ]
     },
     "metadata": {
      "needs_background": "light"
     },
     "output_type": "display_data"
    }
   ],
   "source": [
    "plt.figure(figsize=(8, 5))\n",
    "plt.subplot(221)\n",
    "bin_results_to_check.draw_mnprofile('afb', bound=3)\n",
    "plt.subplot(222)\n",
    "bin_results_to_check.draw_mnprofile('fl', bound=3)\n",
    "plt.tight_layout()\n",
    "plt.show()"
   ]
  },
  {
   "cell_type": "markdown",
   "metadata": {},
   "source": [
    "We can also plot the resulting fitted PDF over the measured $cos(\\theta_l)$ distribution."
   ]
  },
  {
   "cell_type": "code",
   "execution_count": 15,
   "metadata": {
    "pycharm": {
     "name": "#%%\n"
    }
   },
   "outputs": [
    {
     "data": {
      "image/png": "[encoded data removed]",
      "text/plain": [
       "<Figure size 432x288 with 1 Axes>"
      ]
     },
     "metadata": {
      "needs_background": "light"
     },
     "output_type": "display_data"
    }
   ],
   "source": [
    "bin_to_plot = 3\n",
    "number_of_bins_in_hist = 25\n",
    "cos_theta_l_bin = bins[bin_to_plot]['costhetal']\n",
    "hist, _bins, _ = plt.hist(cos_theta_l_bin, bins=number_of_bins_in_hist)\n",
    "x = np.linspace(-1, 1, number_of_bins_in_hist)\n",
    "pdf_multiplier = np.sum(hist) * (np.max(cos_theta_l_bin) - np.min(cos_theta_l_bin)) / number_of_bins_in_hist\n",
    "y = d2gamma_p_d2q2_dcostheta(fl=fls[bin_to_plot], afb=afbs[bin_to_plot], cos_theta_l=x) * pdf_multiplier\n",
    "plt.plot(x, y, label=f'Fit for bin {bin_to_plot}')\n",
    "plt.xlabel(r'$cos(\\theta_l)$')\n",
    "plt.ylabel(r'Number of candidates')\n",
    "plt.legend()\n",
    "plt.grid()\n",
    "plt.show()"
   ]
  },
  {
   "cell_type": "markdown",
   "metadata": {},
   "source": [
    "Finally, let us visualize the results in each bin."
   ]
  },
  {
   "cell_type": "code",
   "execution_count": 16,
   "metadata": {
    "pycharm": {
     "name": "#%%\n"
    }
   },
   "outputs": [
    {
     "data": {
      "image/png": "[encoded data removed]",
      "text/plain": [
       "<Figure size 504x216 with 2 Axes>"
      ]
     },
     "metadata": {
      "needs_background": "light"
     },
     "output_type": "display_data"
    }
   ],
   "source": [
    "fig, (ax1, ax2) = plt.subplots(1, 2, figsize=(7, 3))\n",
    "ax1.errorbar(np.linspace(0, len(bins) - 1, len(bins)), fls, yerr=fl_errs, fmt='o', markersize=2, label=r'$F_L$', color='red')\n",
    "ax2.errorbar(np.linspace(0, len(bins) - 1, len(bins)), afbs, yerr=afb_errs, fmt='o', markersize=2, label=r'$A_{FB}$', color='red')\n",
    "ax1.grid()\n",
    "ax2.grid()\n",
    "ax1.set_ylabel(r'$F_L$')\n",
    "ax2.set_ylabel(r'$A_{FB}$')\n",
    "ax1.set_xlabel(r'Bin number')\n",
    "ax2.set_xlabel(r'Bin number')\n",
    "plt.tight_layout()\n",
    "plt.show()\n"
   ]
  },
  {
   "cell_type": "code",
   "execution_count": null,
   "metadata": {},
   "outputs": [],
   "source": []
  }
 ],
 "metadata": {
  "kernelspec": {
   "display_name": "Python 3",
   "language": "python",
   "name": "python3"
  },
  "language_info": {
   "codemirror_mode": {
    "name": "ipython",
    "version": 3
   },
   "file_extension": ".py",
   "mimetype": "text/x-python",
   "name": "python",
   "nbconvert_exporter": "python",
   "pygments_lexer": "ipython3",
   "version": "3.8.5"
  }
 },
 "nbformat": 4,
 "nbformat_minor": 1
}
